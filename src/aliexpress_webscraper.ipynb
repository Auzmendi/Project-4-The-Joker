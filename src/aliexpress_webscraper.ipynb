{
 "cells": [
  {
   "attachments": {},
   "cell_type": "markdown",
   "metadata": {},
   "source": [
    "ALIEXPRESS WEBSCRAPER"
   ]
  },
  {
   "cell_type": "code",
   "execution_count": 117,
   "metadata": {},
   "outputs": [
    {
     "name": "stderr",
     "output_type": "stream",
     "text": [
      "[WDM] - Downloading: 100%|██████████| 6.81M/6.81M [00:00<00:00, 8.80MB/s]\n"
     ]
    }
   ],
   "source": [
    "#driver = webdriver.Chrome() \n",
    "driver = webdriver.Chrome(service=Service(ChromeDriverManager().install()))"
   ]
  },
  {
   "attachments": {},
   "cell_type": "markdown",
   "metadata": {},
   "source": [
    "-----FUNCTION DEFINITION & MODULES IMPORT-----"
   ]
  },
  {
   "cell_type": "code",
   "execution_count": 2,
   "metadata": {},
   "outputs": [],
   "source": [
    "# IMPORTING MODULES\n",
    "from selenium import webdriver\n",
    "from selenium.webdriver.common.keys import Keys\n",
    "from selenium.webdriver.chrome.service import Service\n",
    "from selenium.webdriver.common.by import By\n",
    "from webdriver_manager.chrome import ChromeDriverManager\n",
    "from bs4 import BeautifulSoup\n",
    "import re\n",
    "import time\n",
    "import pandas as pd\n",
    "import random \n",
    "import numpy as np\n"
   ]
  },
  {
   "cell_type": "code",
   "execution_count": 3,
   "metadata": {},
   "outputs": [],
   "source": [
    "#THIS FUNCTION APPLY A TIME.SLEEP WITH A RANDOM VALUE WHICH IS CHOSEN BETWEEN 2 INPUTS:\n",
    "#INPUT1=T1  -> MINIMUM TIME SLEEP\n",
    "#INPUT2=T12 -> MAXIMUM TIME SLEEP\n",
    "def time_randomizer (t1,t2):\n",
    "    ran_time=random.uniform(t1,t2)\n",
    "    time.sleep(ran_time)"
   ]
  },
  {
   "cell_type": "code",
   "execution_count": 4,
   "metadata": {},
   "outputs": [],
   "source": [
    "def selenium_init(url):\n",
    "    driver = webdriver.Chrome()  # Activate driver for Chrome in this case\n",
    "    time_randomizer(1,3)\n",
    "    # Open Url in the browser\n",
    "    driver.get(url)\n",
    "    time_randomizer(2,4)\n",
    "    return driver"
   ]
  },
  {
   "cell_type": "code",
   "execution_count": 5,
   "metadata": {},
   "outputs": [],
   "source": [
    "def enter_aliexpress():\n",
    "    url='https://es.aliexpress.com/'\n",
    "    driver=selenium_init(url)\n",
    "    title = driver.title\n",
    "    print('Webpage Title:', title)\n",
    "    if len(title)>0:\n",
    "        print('Successful connection \\n')\n",
    "    else:\n",
    "        print('Conection failed \\n')\n",
    "    return driver"
   ]
  },
  {
   "cell_type": "code",
   "execution_count": 6,
   "metadata": {},
   "outputs": [],
   "source": [
    "def starting_setup ():\n",
    "    \n",
    "    #ENTERING ALIEXPRESS\n",
    "    driver = enter_aliexpress() \n",
    "    html=driver.page_source\n",
    "    soup = BeautifulSoup(html)\n",
    "\n",
    "    #ACCEPTING COOKIES\n",
    "    time_randomizer(2,7)\n",
    "    cookies=driver.find_element(By.CLASS_NAME, \"btn-accept\")\n",
    "    cookies.click()\n",
    "    driver.maximize_window() \n",
    "\n",
    "    #GOING TO VIDEOJUEGOS\n",
    "    time_randomizer(3,7)\n",
    "    driver.get(\"https://www.aliexpress.com/category/44/consumer-electronics.html\")\n",
    "    time_randomizer(2,5)\n",
    "    videojuegos=driver.find_elements(By.XPATH, \"//*[contains(text(), 'Videojuegos')]\")[1]\n",
    "    videojuegos.click()\n",
    "\n",
    "    #SORTING BY NUMBER OF ORDERS\n",
    "    driver.get(\"https://es.aliexpress.com/category/204003301/video-games.html\")\n",
    "    time_randomizer(3,6)\n",
    "    sort_by_orders=driver.find_elements(By.XPATH, \"//*[contains(text(),'Pedidos')]\")[2]\n",
    "    sort_by_orders.click()\n",
    "\n",
    "    #SORTING BY RATING --> RATING>=4\n",
    "    driver.get(\"https://es.aliexpress.com/category/204003301/video-games.html?CatId=204003301&g=y&isCategoryBrowse=true&isrefine=y&sortType=total_tranpro_desc&trafficChannel=main\")\n",
    "    time_randomizer(2,5)\n",
    "    sort_by_rating=driver.find_elements(By.CLASS_NAME, \"comet-checkbox-icon\")[3]\n",
    "    sort_by_rating.click()\n",
    "\n",
    "    #SCROLLING TILL THE BOTTOM OF THE WEBPAGE\n",
    "    for y in range (1,13):\n",
    "        height = y*1080\n",
    "        driver.execute_script(f\"window.scrollTo(0, {height})\") \n",
    "        time_randomizer(1,2)\n",
    "\n",
    "    return driver\n"
   ]
  },
  {
   "cell_type": "code",
   "execution_count": 10,
   "metadata": {},
   "outputs": [],
   "source": [
    "#THIS FUNCTION SCRAP THE DATA FROM THE CURRENT WEBPAGE & RETURNS A DATAFRAME\n",
    "def page_scraper(html):\n",
    "    soup=BeautifulSoup(html)\n",
    "    #GETTING DATA\n",
    "    product_names=soup.select('h1[class*=\"manhattan--titleText--\"]')\n",
    "    product_real_price=soup.select('div[class*=\"manhattan--price-sale--\"]')\n",
    "    product_original_price=soup.select('div[class*=\"manhattan--price-original--\"]')\n",
    "    product_sell_qty=soup.select('span[class*=\"manhattan--trade--\"]')\n",
    "    product_rate=soup.select('span[class*=\"manhattan--evaluation--\"]')\n",
    "    product_delivery_info=soup.select('div[class*=\"manhattan--topList--\"]')\n",
    "    product_official_store=soup.select('span[class*=\"cards--store--\"]')\n",
    "    #APPENDING DATA INTO LISTS\n",
    "    product_names_list=[product.text for product in product_names]\n",
    "    product_real_price_list=[product.text for product in product_real_price]\n",
    "    product_original_price_list=[product.text for product in product_original_price]\n",
    "    product_sell_qty_list=[product.text for product in product_sell_qty]\n",
    "    product_rate_list=[product.text for product in product_rate]\n",
    "    product_delivery_info_list=[product.text for product in product_delivery_info]\n",
    "    product_official_store_list=[product.text for product in product_official_store]\n",
    "    #CREATING DATAFRAME\n",
    "    df=pd.DataFrame({'Product Name':product_names_list,\n",
    "                            'Price':product_real_price_list,\n",
    "                            'Original Price':product_original_price_list,\n",
    "                            'Sell Quantity':product_sell_qty_list,\n",
    "                            'Official Store':product_official_store_list,\n",
    "                            'Rating':product_rate_list,\n",
    "                            'delivery_info' : product_delivery_info_list\n",
    "                            })\n",
    "    return df"
   ]
  },
  {
   "attachments": {},
   "cell_type": "markdown",
   "metadata": {},
   "source": [
    "-----MAIN-----"
   ]
  },
  {
   "cell_type": "code",
   "execution_count": 11,
   "metadata": {},
   "outputs": [
    {
     "name": "stdout",
     "output_type": "stream",
     "text": [
      "Webpage Title: AliExpress - Compra online de Electrónica, Moda, Casa y jardín, Deportes y ocio, Motor y seguridad, y más. - AliExpress - AliExpress\n",
      "Successful connection \n",
      "\n",
      "WE ARE IN THE FIRST PAGE\n",
      "......Collecting data.......\n",
      "https://es.aliexpress.com/category/204003301/video-games.html?CatId=204003301&g=y&isCategoryBrowse=true&isrefine=y&sortType=total_tranpro_desc&trafficChannel=main&isFavorite=y&page=2\n",
      "WE ARE IN THE PAGE NUMBER 2\n",
      "......Collecting data.......\n",
      "WE ARE IN THE PAGE NUMBER 3\n",
      "......Collecting data.......\n",
      "WE ARE IN THE PAGE NUMBER 4\n",
      "......Collecting data.......\n",
      "WE ARE IN THE PAGE NUMBER 5\n",
      "......Collecting data.......\n",
      "WE ARE IN THE PAGE NUMBER 6\n",
      "......Collecting data.......\n",
      "WE ARE IN THE PAGE NUMBER 7\n",
      "......Collecting data.......\n",
      "WE ARE IN THE PAGE NUMBER 8\n",
      "......Collecting data.......\n",
      "WE ARE IN THE PAGE NUMBER 9\n",
      "......Collecting data.......\n",
      "WE ARE IN THE PAGE NUMBER 10\n",
      "......Collecting data.......\n",
      "WE ARE IN THE PAGE NUMBER 11\n",
      "......Collecting data.......\n",
      "WE ARE IN THE PAGE NUMBER 12\n",
      "......Collecting data.......\n",
      "WE ARE IN THE PAGE NUMBER 13\n",
      "......Collecting data.......\n",
      "WE ARE IN THE PAGE NUMBER 14\n",
      "......Collecting data.......\n",
      "WE ARE IN THE PAGE NUMBER 15\n",
      "......Collecting data.......\n",
      "WE ARE IN THE PAGE NUMBER 16\n",
      "......Collecting data.......\n",
      "WE ARE IN THE PAGE NUMBER 17\n",
      "......Collecting data.......\n",
      "WE ARE IN THE PAGE NUMBER 18\n",
      "......Collecting data.......\n",
      "WE ARE IN THE PAGE NUMBER 19\n",
      "......Collecting data.......\n",
      "WE ARE IN THE PAGE NUMBER 20\n",
      "......Collecting data.......\n",
      "WE ARE IN THE PAGE NUMBER 21\n",
      "......Collecting data.......\n",
      "WE ARE IN THE PAGE NUMBER 22\n",
      "......Collecting data.......\n",
      "WE ARE IN THE PAGE NUMBER 23\n",
      "......Collecting data.......\n",
      "WE ARE IN THE PAGE NUMBER 24\n",
      "......Collecting data.......\n",
      "WE ARE IN THE PAGE NUMBER 25\n",
      "......Collecting data.......\n",
      "WE ARE IN THE PAGE NUMBER 26\n",
      "......Collecting data.......\n",
      "WE ARE IN THE PAGE NUMBER 27\n",
      "......Collecting data.......\n",
      "WE ARE IN THE PAGE NUMBER 28\n",
      "......Collecting data.......\n",
      "WE ARE IN THE PAGE NUMBER 29\n",
      "......Collecting data.......\n",
      "WE ARE IN THE PAGE NUMBER 30\n",
      "......Collecting data.......\n",
      "WE ARE IN THE PAGE NUMBER 31\n",
      "......Collecting data.......\n",
      "WE ARE IN THE PAGE NUMBER 32\n",
      "......Collecting data.......\n",
      "WE ARE IN THE PAGE NUMBER 33\n",
      "......Collecting data.......\n",
      "WE ARE IN THE PAGE NUMBER 34\n",
      "......Collecting data.......\n",
      "WE ARE IN THE PAGE NUMBER 35\n",
      "......Collecting data.......\n",
      "WE ARE IN THE PAGE NUMBER 36\n",
      "......Collecting data.......\n",
      "WE ARE IN THE PAGE NUMBER 37\n",
      "......Collecting data.......\n",
      "WE ARE IN THE PAGE NUMBER 38\n",
      "......Collecting data.......\n",
      "WE ARE IN THE PAGE NUMBER 39\n",
      "......Collecting data.......\n",
      "WE ARE IN THE PAGE NUMBER 40\n",
      "......Collecting data.......\n",
      "WE ARE IN THE PAGE NUMBER 41\n",
      "......Collecting data.......\n",
      "WE ARE IN THE PAGE NUMBER 42\n",
      "......Collecting data.......\n",
      "WE ARE IN THE PAGE NUMBER 43\n",
      "......Collecting data.......\n",
      "WE ARE IN THE PAGE NUMBER 44\n",
      "......Collecting data.......\n",
      "WE ARE IN THE PAGE NUMBER 45\n",
      "......Collecting data.......\n",
      "WE ARE IN THE PAGE NUMBER 46\n",
      "......Collecting data.......\n",
      "WE ARE IN THE PAGE NUMBER 47\n",
      "......Collecting data.......\n",
      "WE ARE IN THE PAGE NUMBER 48\n",
      "......Collecting data.......\n",
      "WE ARE IN THE PAGE NUMBER 49\n"
     ]
    }
   ],
   "source": [
    "#MAIN\n",
    "driver = starting_setup()\n",
    "url=driver.current_url\n",
    "html=driver.page_source\n",
    "global_df=pd.DataFrame()\n",
    "print('WE ARE IN THE FIRST PAGE')\n",
    "for i in range (2,50):\n",
    "    driver.get(url)\n",
    "    time_randomizer(2,7)\n",
    "    \n",
    "    for y in range (2,7):\n",
    "        height = y*1080\n",
    "        driver.execute_script(f\"window.scrollTo(0, {height})\") \n",
    "        time_randomizer(1,4)\n",
    "    html=driver.page_source\n",
    "    print('......Collecting data.......')\n",
    "    df=page_scraper(html)\n",
    "    global_df=pd.concat([global_df,df],ignore_index=True)\n",
    "    if \"page=\" in url:\n",
    "        url=url.replace('page=/d+',f'page={i}')\n",
    "        print(f'WE ARE IN THE PAGE NUMBER {i}')\n",
    "    else:\n",
    "        url= f'{url}&page=2'\n",
    "        print(url)\n",
    "        print(f'WE ARE IN THE PAGE NUMBER {i}')\n",
    "global_df.to_csv()\n",
    "driver.quit()"
   ]
  },
  {
   "cell_type": "code",
   "execution_count": 49,
   "metadata": {},
   "outputs": [],
   "source": [
    "global_df.to_csv('global_df_not_cleaned')"
   ]
  },
  {
   "cell_type": "code",
   "execution_count": 21,
   "metadata": {},
   "outputs": [],
   "source": [
    "global_df['Rating'] = global_df['Rating'].astype(float)"
   ]
  },
  {
   "cell_type": "code",
   "execution_count": 32,
   "metadata": {},
   "outputs": [],
   "source": [
    "global_df['Price'] = global_df['Price'].str.replace('€','').str.strip()\n",
    "global_df['Price'] = global_df['Price'].str.replace(',','.').astype(float)\n",
    "global_df.head()"
   ]
  },
  {
   "cell_type": "code",
   "execution_count": 48,
   "metadata": {},
   "outputs": [
    {
     "name": "stdout",
     "output_type": "stream",
     "text": [
      "0\n"
     ]
    },
    {
     "ename": "ValueError",
     "evalue": "could not convert string to float: ''",
     "output_type": "error",
     "traceback": [
      "\u001b[1;31m---------------------------------------------------------------------------\u001b[0m",
      "\u001b[1;31mValueError\u001b[0m                                Traceback (most recent call last)",
      "Cell \u001b[1;32mIn[48], line 4\u001b[0m\n\u001b[0;32m      2\u001b[0m global_df[\u001b[39m'\u001b[39m\u001b[39mOriginal Price\u001b[39m\u001b[39m'\u001b[39m]\u001b[39m.\u001b[39mstr\u001b[39m.\u001b[39mreplace(\u001b[39m'\u001b[39m\u001b[39m \u001b[39m\u001b[39m'\u001b[39m,\u001b[39m'\u001b[39m\u001b[39m'\u001b[39m)\n\u001b[0;32m      3\u001b[0m num_null \u001b[39m=\u001b[39m global_df[\u001b[39m'\u001b[39m\u001b[39mOriginal Price\u001b[39m\u001b[39m'\u001b[39m]\u001b[39m.\u001b[39misnull()\u001b[39m.\u001b[39msum()\n\u001b[1;32m----> 4\u001b[0m global_df[\u001b[39m'\u001b[39;49m\u001b[39mOriginal Price\u001b[39;49m\u001b[39m'\u001b[39;49m]\u001b[39m.\u001b[39;49mastype(\u001b[39mfloat\u001b[39;49m)\n",
      "File \u001b[1;32mc:\\Users\\iauzm\\AppData\\Local\\Programs\\Python\\Python311\\Lib\\site-packages\\pandas\\core\\generic.py:6324\u001b[0m, in \u001b[0;36mNDFrame.astype\u001b[1;34m(self, dtype, copy, errors)\u001b[0m\n\u001b[0;32m   6317\u001b[0m     results \u001b[39m=\u001b[39m [\n\u001b[0;32m   6318\u001b[0m         \u001b[39mself\u001b[39m\u001b[39m.\u001b[39miloc[:, i]\u001b[39m.\u001b[39mastype(dtype, copy\u001b[39m=\u001b[39mcopy)\n\u001b[0;32m   6319\u001b[0m         \u001b[39mfor\u001b[39;00m i \u001b[39min\u001b[39;00m \u001b[39mrange\u001b[39m(\u001b[39mlen\u001b[39m(\u001b[39mself\u001b[39m\u001b[39m.\u001b[39mcolumns))\n\u001b[0;32m   6320\u001b[0m     ]\n\u001b[0;32m   6322\u001b[0m \u001b[39melse\u001b[39;00m:\n\u001b[0;32m   6323\u001b[0m     \u001b[39m# else, only a single dtype is given\u001b[39;00m\n\u001b[1;32m-> 6324\u001b[0m     new_data \u001b[39m=\u001b[39m \u001b[39mself\u001b[39;49m\u001b[39m.\u001b[39;49m_mgr\u001b[39m.\u001b[39;49mastype(dtype\u001b[39m=\u001b[39;49mdtype, copy\u001b[39m=\u001b[39;49mcopy, errors\u001b[39m=\u001b[39;49merrors)\n\u001b[0;32m   6325\u001b[0m     \u001b[39mreturn\u001b[39;00m \u001b[39mself\u001b[39m\u001b[39m.\u001b[39m_constructor(new_data)\u001b[39m.\u001b[39m__finalize__(\u001b[39mself\u001b[39m, method\u001b[39m=\u001b[39m\u001b[39m\"\u001b[39m\u001b[39mastype\u001b[39m\u001b[39m\"\u001b[39m)\n\u001b[0;32m   6327\u001b[0m \u001b[39m# GH 33113: handle empty frame or series\u001b[39;00m\n",
      "File \u001b[1;32mc:\\Users\\iauzm\\AppData\\Local\\Programs\\Python\\Python311\\Lib\\site-packages\\pandas\\core\\internals\\managers.py:451\u001b[0m, in \u001b[0;36mBaseBlockManager.astype\u001b[1;34m(self, dtype, copy, errors)\u001b[0m\n\u001b[0;32m    448\u001b[0m \u001b[39melif\u001b[39;00m using_copy_on_write():\n\u001b[0;32m    449\u001b[0m     copy \u001b[39m=\u001b[39m \u001b[39mFalse\u001b[39;00m\n\u001b[1;32m--> 451\u001b[0m \u001b[39mreturn\u001b[39;00m \u001b[39mself\u001b[39;49m\u001b[39m.\u001b[39;49mapply(\n\u001b[0;32m    452\u001b[0m     \u001b[39m\"\u001b[39;49m\u001b[39mastype\u001b[39;49m\u001b[39m\"\u001b[39;49m,\n\u001b[0;32m    453\u001b[0m     dtype\u001b[39m=\u001b[39;49mdtype,\n\u001b[0;32m    454\u001b[0m     copy\u001b[39m=\u001b[39;49mcopy,\n\u001b[0;32m    455\u001b[0m     errors\u001b[39m=\u001b[39;49merrors,\n\u001b[0;32m    456\u001b[0m     using_cow\u001b[39m=\u001b[39;49musing_copy_on_write(),\n\u001b[0;32m    457\u001b[0m )\n",
      "File \u001b[1;32mc:\\Users\\iauzm\\AppData\\Local\\Programs\\Python\\Python311\\Lib\\site-packages\\pandas\\core\\internals\\managers.py:352\u001b[0m, in \u001b[0;36mBaseBlockManager.apply\u001b[1;34m(self, f, align_keys, **kwargs)\u001b[0m\n\u001b[0;32m    350\u001b[0m         applied \u001b[39m=\u001b[39m b\u001b[39m.\u001b[39mapply(f, \u001b[39m*\u001b[39m\u001b[39m*\u001b[39mkwargs)\n\u001b[0;32m    351\u001b[0m     \u001b[39melse\u001b[39;00m:\n\u001b[1;32m--> 352\u001b[0m         applied \u001b[39m=\u001b[39m \u001b[39mgetattr\u001b[39;49m(b, f)(\u001b[39m*\u001b[39;49m\u001b[39m*\u001b[39;49mkwargs)\n\u001b[0;32m    353\u001b[0m     result_blocks \u001b[39m=\u001b[39m extend_blocks(applied, result_blocks)\n\u001b[0;32m    355\u001b[0m out \u001b[39m=\u001b[39m \u001b[39mtype\u001b[39m(\u001b[39mself\u001b[39m)\u001b[39m.\u001b[39mfrom_blocks(result_blocks, \u001b[39mself\u001b[39m\u001b[39m.\u001b[39maxes)\n",
      "File \u001b[1;32mc:\\Users\\iauzm\\AppData\\Local\\Programs\\Python\\Python311\\Lib\\site-packages\\pandas\\core\\internals\\blocks.py:511\u001b[0m, in \u001b[0;36mBlock.astype\u001b[1;34m(self, dtype, copy, errors, using_cow)\u001b[0m\n\u001b[0;32m    491\u001b[0m \u001b[39m\u001b[39m\u001b[39m\"\"\"\u001b[39;00m\n\u001b[0;32m    492\u001b[0m \u001b[39mCoerce to the new dtype.\u001b[39;00m\n\u001b[0;32m    493\u001b[0m \n\u001b[1;32m   (...)\u001b[0m\n\u001b[0;32m    507\u001b[0m \u001b[39mBlock\u001b[39;00m\n\u001b[0;32m    508\u001b[0m \u001b[39m\"\"\"\u001b[39;00m\n\u001b[0;32m    509\u001b[0m values \u001b[39m=\u001b[39m \u001b[39mself\u001b[39m\u001b[39m.\u001b[39mvalues\n\u001b[1;32m--> 511\u001b[0m new_values \u001b[39m=\u001b[39m astype_array_safe(values, dtype, copy\u001b[39m=\u001b[39;49mcopy, errors\u001b[39m=\u001b[39;49merrors)\n\u001b[0;32m    513\u001b[0m new_values \u001b[39m=\u001b[39m maybe_coerce_values(new_values)\n\u001b[0;32m    515\u001b[0m refs \u001b[39m=\u001b[39m \u001b[39mNone\u001b[39;00m\n",
      "File \u001b[1;32mc:\\Users\\iauzm\\AppData\\Local\\Programs\\Python\\Python311\\Lib\\site-packages\\pandas\\core\\dtypes\\astype.py:242\u001b[0m, in \u001b[0;36mastype_array_safe\u001b[1;34m(values, dtype, copy, errors)\u001b[0m\n\u001b[0;32m    239\u001b[0m     dtype \u001b[39m=\u001b[39m dtype\u001b[39m.\u001b[39mnumpy_dtype\n\u001b[0;32m    241\u001b[0m \u001b[39mtry\u001b[39;00m:\n\u001b[1;32m--> 242\u001b[0m     new_values \u001b[39m=\u001b[39m astype_array(values, dtype, copy\u001b[39m=\u001b[39;49mcopy)\n\u001b[0;32m    243\u001b[0m \u001b[39mexcept\u001b[39;00m (\u001b[39mValueError\u001b[39;00m, \u001b[39mTypeError\u001b[39;00m):\n\u001b[0;32m    244\u001b[0m     \u001b[39m# e.g. _astype_nansafe can fail on object-dtype of strings\u001b[39;00m\n\u001b[0;32m    245\u001b[0m     \u001b[39m#  trying to convert to float\u001b[39;00m\n\u001b[0;32m    246\u001b[0m     \u001b[39mif\u001b[39;00m errors \u001b[39m==\u001b[39m \u001b[39m\"\u001b[39m\u001b[39mignore\u001b[39m\u001b[39m\"\u001b[39m:\n",
      "File \u001b[1;32mc:\\Users\\iauzm\\AppData\\Local\\Programs\\Python\\Python311\\Lib\\site-packages\\pandas\\core\\dtypes\\astype.py:187\u001b[0m, in \u001b[0;36mastype_array\u001b[1;34m(values, dtype, copy)\u001b[0m\n\u001b[0;32m    184\u001b[0m     values \u001b[39m=\u001b[39m values\u001b[39m.\u001b[39mastype(dtype, copy\u001b[39m=\u001b[39mcopy)\n\u001b[0;32m    186\u001b[0m \u001b[39melse\u001b[39;00m:\n\u001b[1;32m--> 187\u001b[0m     values \u001b[39m=\u001b[39m _astype_nansafe(values, dtype, copy\u001b[39m=\u001b[39;49mcopy)\n\u001b[0;32m    189\u001b[0m \u001b[39m# in pandas we don't store numpy str dtypes, so convert to object\u001b[39;00m\n\u001b[0;32m    190\u001b[0m \u001b[39mif\u001b[39;00m \u001b[39misinstance\u001b[39m(dtype, np\u001b[39m.\u001b[39mdtype) \u001b[39mand\u001b[39;00m \u001b[39missubclass\u001b[39m(values\u001b[39m.\u001b[39mdtype\u001b[39m.\u001b[39mtype, \u001b[39mstr\u001b[39m):\n",
      "File \u001b[1;32mc:\\Users\\iauzm\\AppData\\Local\\Programs\\Python\\Python311\\Lib\\site-packages\\pandas\\core\\dtypes\\astype.py:138\u001b[0m, in \u001b[0;36m_astype_nansafe\u001b[1;34m(arr, dtype, copy, skipna)\u001b[0m\n\u001b[0;32m    134\u001b[0m     \u001b[39mraise\u001b[39;00m \u001b[39mValueError\u001b[39;00m(msg)\n\u001b[0;32m    136\u001b[0m \u001b[39mif\u001b[39;00m copy \u001b[39mor\u001b[39;00m is_object_dtype(arr\u001b[39m.\u001b[39mdtype) \u001b[39mor\u001b[39;00m is_object_dtype(dtype):\n\u001b[0;32m    137\u001b[0m     \u001b[39m# Explicit copy, or required since NumPy can't view from / to object.\u001b[39;00m\n\u001b[1;32m--> 138\u001b[0m     \u001b[39mreturn\u001b[39;00m arr\u001b[39m.\u001b[39;49mastype(dtype, copy\u001b[39m=\u001b[39;49m\u001b[39mTrue\u001b[39;49;00m)\n\u001b[0;32m    140\u001b[0m \u001b[39mreturn\u001b[39;00m arr\u001b[39m.\u001b[39mastype(dtype, copy\u001b[39m=\u001b[39mcopy)\n",
      "\u001b[1;31mValueError\u001b[0m: could not convert string to float: ''"
     ]
    }
   ],
   "source": [
    "print(num_null)\n",
    "global_df['Original Price'].str.replace(' ','')\n",
    "num_null = global_df['Original Price'].isnull().sum()\n",
    "global_df['Original Price'].astype(float)"
   ]
  },
  {
   "cell_type": "code",
   "execution_count": 43,
   "metadata": {},
   "outputs": [
    {
     "name": "stdout",
     "output_type": "stream",
     "text": [
      "The Quantity of null values in the column 'Original Price': 0\n",
      "Null values filled as in column: 'Price'\n",
      "The Quantity of null values in the column 'Original Price' now is: 0\n"
     ]
    },
    {
     "ename": "ValueError",
     "evalue": "could not convert string to float: ''",
     "output_type": "error",
     "traceback": [
      "\u001b[1;31m---------------------------------------------------------------------------\u001b[0m",
      "\u001b[1;31mValueError\u001b[0m                                Traceback (most recent call last)",
      "Cell \u001b[1;32mIn[43], line 11\u001b[0m\n\u001b[0;32m      9\u001b[0m global_df[\u001b[39m'\u001b[39m\u001b[39mOriginal Price\u001b[39m\u001b[39m'\u001b[39m] \u001b[39m=\u001b[39m global_df[\u001b[39m'\u001b[39m\u001b[39mOriginal Price\u001b[39m\u001b[39m'\u001b[39m]\u001b[39m.\u001b[39mstr\u001b[39m.\u001b[39mreplace(\u001b[39m'\u001b[39m\u001b[39m \u001b[39m\u001b[39m'\u001b[39m,\u001b[39m'\u001b[39m\u001b[39m'\u001b[39m)\n\u001b[0;32m     10\u001b[0m global_df[\u001b[39m'\u001b[39m\u001b[39mOriginal Price\u001b[39m\u001b[39m'\u001b[39m] \u001b[39m=\u001b[39m global_df[\u001b[39m'\u001b[39m\u001b[39mOriginal Price\u001b[39m\u001b[39m'\u001b[39m]\u001b[39m.\u001b[39mstr\u001b[39m.\u001b[39mreplace(\u001b[39m'\u001b[39m\u001b[39m,\u001b[39m\u001b[39m'\u001b[39m,\u001b[39m'\u001b[39m\u001b[39m.\u001b[39m\u001b[39m'\u001b[39m)\n\u001b[1;32m---> 11\u001b[0m global_df[\u001b[39m'\u001b[39m\u001b[39mOriginal Price\u001b[39m\u001b[39m'\u001b[39m] \u001b[39m=\u001b[39m global_df[\u001b[39m'\u001b[39;49m\u001b[39mOriginal Price\u001b[39;49m\u001b[39m'\u001b[39;49m]\u001b[39m.\u001b[39;49mastype(\u001b[39mfloat\u001b[39;49m)\n\u001b[0;32m     12\u001b[0m global_df\u001b[39m.\u001b[39mhead()\n",
      "File \u001b[1;32mc:\\Users\\iauzm\\AppData\\Local\\Programs\\Python\\Python311\\Lib\\site-packages\\pandas\\core\\generic.py:6324\u001b[0m, in \u001b[0;36mNDFrame.astype\u001b[1;34m(self, dtype, copy, errors)\u001b[0m\n\u001b[0;32m   6317\u001b[0m     results \u001b[39m=\u001b[39m [\n\u001b[0;32m   6318\u001b[0m         \u001b[39mself\u001b[39m\u001b[39m.\u001b[39miloc[:, i]\u001b[39m.\u001b[39mastype(dtype, copy\u001b[39m=\u001b[39mcopy)\n\u001b[0;32m   6319\u001b[0m         \u001b[39mfor\u001b[39;00m i \u001b[39min\u001b[39;00m \u001b[39mrange\u001b[39m(\u001b[39mlen\u001b[39m(\u001b[39mself\u001b[39m\u001b[39m.\u001b[39mcolumns))\n\u001b[0;32m   6320\u001b[0m     ]\n\u001b[0;32m   6322\u001b[0m \u001b[39melse\u001b[39;00m:\n\u001b[0;32m   6323\u001b[0m     \u001b[39m# else, only a single dtype is given\u001b[39;00m\n\u001b[1;32m-> 6324\u001b[0m     new_data \u001b[39m=\u001b[39m \u001b[39mself\u001b[39;49m\u001b[39m.\u001b[39;49m_mgr\u001b[39m.\u001b[39;49mastype(dtype\u001b[39m=\u001b[39;49mdtype, copy\u001b[39m=\u001b[39;49mcopy, errors\u001b[39m=\u001b[39;49merrors)\n\u001b[0;32m   6325\u001b[0m     \u001b[39mreturn\u001b[39;00m \u001b[39mself\u001b[39m\u001b[39m.\u001b[39m_constructor(new_data)\u001b[39m.\u001b[39m__finalize__(\u001b[39mself\u001b[39m, method\u001b[39m=\u001b[39m\u001b[39m\"\u001b[39m\u001b[39mastype\u001b[39m\u001b[39m\"\u001b[39m)\n\u001b[0;32m   6327\u001b[0m \u001b[39m# GH 33113: handle empty frame or series\u001b[39;00m\n",
      "File \u001b[1;32mc:\\Users\\iauzm\\AppData\\Local\\Programs\\Python\\Python311\\Lib\\site-packages\\pandas\\core\\internals\\managers.py:451\u001b[0m, in \u001b[0;36mBaseBlockManager.astype\u001b[1;34m(self, dtype, copy, errors)\u001b[0m\n\u001b[0;32m    448\u001b[0m \u001b[39melif\u001b[39;00m using_copy_on_write():\n\u001b[0;32m    449\u001b[0m     copy \u001b[39m=\u001b[39m \u001b[39mFalse\u001b[39;00m\n\u001b[1;32m--> 451\u001b[0m \u001b[39mreturn\u001b[39;00m \u001b[39mself\u001b[39;49m\u001b[39m.\u001b[39;49mapply(\n\u001b[0;32m    452\u001b[0m     \u001b[39m\"\u001b[39;49m\u001b[39mastype\u001b[39;49m\u001b[39m\"\u001b[39;49m,\n\u001b[0;32m    453\u001b[0m     dtype\u001b[39m=\u001b[39;49mdtype,\n\u001b[0;32m    454\u001b[0m     copy\u001b[39m=\u001b[39;49mcopy,\n\u001b[0;32m    455\u001b[0m     errors\u001b[39m=\u001b[39;49merrors,\n\u001b[0;32m    456\u001b[0m     using_cow\u001b[39m=\u001b[39;49musing_copy_on_write(),\n\u001b[0;32m    457\u001b[0m )\n",
      "File \u001b[1;32mc:\\Users\\iauzm\\AppData\\Local\\Programs\\Python\\Python311\\Lib\\site-packages\\pandas\\core\\internals\\managers.py:352\u001b[0m, in \u001b[0;36mBaseBlockManager.apply\u001b[1;34m(self, f, align_keys, **kwargs)\u001b[0m\n\u001b[0;32m    350\u001b[0m         applied \u001b[39m=\u001b[39m b\u001b[39m.\u001b[39mapply(f, \u001b[39m*\u001b[39m\u001b[39m*\u001b[39mkwargs)\n\u001b[0;32m    351\u001b[0m     \u001b[39melse\u001b[39;00m:\n\u001b[1;32m--> 352\u001b[0m         applied \u001b[39m=\u001b[39m \u001b[39mgetattr\u001b[39;49m(b, f)(\u001b[39m*\u001b[39;49m\u001b[39m*\u001b[39;49mkwargs)\n\u001b[0;32m    353\u001b[0m     result_blocks \u001b[39m=\u001b[39m extend_blocks(applied, result_blocks)\n\u001b[0;32m    355\u001b[0m out \u001b[39m=\u001b[39m \u001b[39mtype\u001b[39m(\u001b[39mself\u001b[39m)\u001b[39m.\u001b[39mfrom_blocks(result_blocks, \u001b[39mself\u001b[39m\u001b[39m.\u001b[39maxes)\n",
      "File \u001b[1;32mc:\\Users\\iauzm\\AppData\\Local\\Programs\\Python\\Python311\\Lib\\site-packages\\pandas\\core\\internals\\blocks.py:511\u001b[0m, in \u001b[0;36mBlock.astype\u001b[1;34m(self, dtype, copy, errors, using_cow)\u001b[0m\n\u001b[0;32m    491\u001b[0m \u001b[39m\u001b[39m\u001b[39m\"\"\"\u001b[39;00m\n\u001b[0;32m    492\u001b[0m \u001b[39mCoerce to the new dtype.\u001b[39;00m\n\u001b[0;32m    493\u001b[0m \n\u001b[1;32m   (...)\u001b[0m\n\u001b[0;32m    507\u001b[0m \u001b[39mBlock\u001b[39;00m\n\u001b[0;32m    508\u001b[0m \u001b[39m\"\"\"\u001b[39;00m\n\u001b[0;32m    509\u001b[0m values \u001b[39m=\u001b[39m \u001b[39mself\u001b[39m\u001b[39m.\u001b[39mvalues\n\u001b[1;32m--> 511\u001b[0m new_values \u001b[39m=\u001b[39m astype_array_safe(values, dtype, copy\u001b[39m=\u001b[39;49mcopy, errors\u001b[39m=\u001b[39;49merrors)\n\u001b[0;32m    513\u001b[0m new_values \u001b[39m=\u001b[39m maybe_coerce_values(new_values)\n\u001b[0;32m    515\u001b[0m refs \u001b[39m=\u001b[39m \u001b[39mNone\u001b[39;00m\n",
      "File \u001b[1;32mc:\\Users\\iauzm\\AppData\\Local\\Programs\\Python\\Python311\\Lib\\site-packages\\pandas\\core\\dtypes\\astype.py:242\u001b[0m, in \u001b[0;36mastype_array_safe\u001b[1;34m(values, dtype, copy, errors)\u001b[0m\n\u001b[0;32m    239\u001b[0m     dtype \u001b[39m=\u001b[39m dtype\u001b[39m.\u001b[39mnumpy_dtype\n\u001b[0;32m    241\u001b[0m \u001b[39mtry\u001b[39;00m:\n\u001b[1;32m--> 242\u001b[0m     new_values \u001b[39m=\u001b[39m astype_array(values, dtype, copy\u001b[39m=\u001b[39;49mcopy)\n\u001b[0;32m    243\u001b[0m \u001b[39mexcept\u001b[39;00m (\u001b[39mValueError\u001b[39;00m, \u001b[39mTypeError\u001b[39;00m):\n\u001b[0;32m    244\u001b[0m     \u001b[39m# e.g. _astype_nansafe can fail on object-dtype of strings\u001b[39;00m\n\u001b[0;32m    245\u001b[0m     \u001b[39m#  trying to convert to float\u001b[39;00m\n\u001b[0;32m    246\u001b[0m     \u001b[39mif\u001b[39;00m errors \u001b[39m==\u001b[39m \u001b[39m\"\u001b[39m\u001b[39mignore\u001b[39m\u001b[39m\"\u001b[39m:\n",
      "File \u001b[1;32mc:\\Users\\iauzm\\AppData\\Local\\Programs\\Python\\Python311\\Lib\\site-packages\\pandas\\core\\dtypes\\astype.py:187\u001b[0m, in \u001b[0;36mastype_array\u001b[1;34m(values, dtype, copy)\u001b[0m\n\u001b[0;32m    184\u001b[0m     values \u001b[39m=\u001b[39m values\u001b[39m.\u001b[39mastype(dtype, copy\u001b[39m=\u001b[39mcopy)\n\u001b[0;32m    186\u001b[0m \u001b[39melse\u001b[39;00m:\n\u001b[1;32m--> 187\u001b[0m     values \u001b[39m=\u001b[39m _astype_nansafe(values, dtype, copy\u001b[39m=\u001b[39;49mcopy)\n\u001b[0;32m    189\u001b[0m \u001b[39m# in pandas we don't store numpy str dtypes, so convert to object\u001b[39;00m\n\u001b[0;32m    190\u001b[0m \u001b[39mif\u001b[39;00m \u001b[39misinstance\u001b[39m(dtype, np\u001b[39m.\u001b[39mdtype) \u001b[39mand\u001b[39;00m \u001b[39missubclass\u001b[39m(values\u001b[39m.\u001b[39mdtype\u001b[39m.\u001b[39mtype, \u001b[39mstr\u001b[39m):\n",
      "File \u001b[1;32mc:\\Users\\iauzm\\AppData\\Local\\Programs\\Python\\Python311\\Lib\\site-packages\\pandas\\core\\dtypes\\astype.py:138\u001b[0m, in \u001b[0;36m_astype_nansafe\u001b[1;34m(arr, dtype, copy, skipna)\u001b[0m\n\u001b[0;32m    134\u001b[0m     \u001b[39mraise\u001b[39;00m \u001b[39mValueError\u001b[39;00m(msg)\n\u001b[0;32m    136\u001b[0m \u001b[39mif\u001b[39;00m copy \u001b[39mor\u001b[39;00m is_object_dtype(arr\u001b[39m.\u001b[39mdtype) \u001b[39mor\u001b[39;00m is_object_dtype(dtype):\n\u001b[0;32m    137\u001b[0m     \u001b[39m# Explicit copy, or required since NumPy can't view from / to object.\u001b[39;00m\n\u001b[1;32m--> 138\u001b[0m     \u001b[39mreturn\u001b[39;00m arr\u001b[39m.\u001b[39;49mastype(dtype, copy\u001b[39m=\u001b[39;49m\u001b[39mTrue\u001b[39;49;00m)\n\u001b[0;32m    140\u001b[0m \u001b[39mreturn\u001b[39;00m arr\u001b[39m.\u001b[39mastype(dtype, copy\u001b[39m=\u001b[39mcopy)\n",
      "\u001b[1;31mValueError\u001b[0m: could not convert string to float: ''"
     ]
    }
   ],
   "source": [
    "#global_df['Original Price'] = global_df['Original Price'].str.replace('€','').str.strip()\n",
    "global_df['Original Price'] = global_df['Original Price'].str.replace(' ','')\n",
    "num_null = global_df['Original Price'].isnull().sum()\n",
    "print(\"The Quantity of null values in the column 'Original Price':\", num_null)\n",
    "print(\"Null values filled as in column: 'Price'\")\n",
    "global_df['Original Price'].fillna(global_df['Price'], inplace=True)\n",
    "num_null = global_df['Original Price'].isnull().sum()\n",
    "print(\"The Quantity of null values in the column 'Original Price' now is:\", num_null)\n",
    "global_df['Original Price'] = global_df['Original Price'].str.replace(' ','')\n",
    "global_df['Original Price'] = global_df['Original Price'].str.replace(',','.')\n",
    "global_df['Original Price'] = global_df['Original Price'].astype(float)\n",
    "global_df.head()"
   ]
  },
  {
   "cell_type": "code",
   "execution_count": null,
   "metadata": {},
   "outputs": [],
   "source": []
  },
  {
   "cell_type": "code",
   "execution_count": 36,
   "metadata": {},
   "outputs": [
    {
     "data": {
      "text/plain": [
       "Product Name       object\n",
       "Price             float64\n",
       "Original Price     object\n",
       "Sell Quantity      object\n",
       "Official Store     object\n",
       "Rating            float64\n",
       "delivery_info      object\n",
       "dtype: object"
      ]
     },
     "execution_count": 36,
     "metadata": {},
     "output_type": "execute_result"
    }
   ],
   "source": [
    "a = "
   ]
  },
  {
   "cell_type": "code",
   "execution_count": 8,
   "metadata": {},
   "outputs": [
    {
     "name": "stdout",
     "output_type": "stream",
     "text": [
      "Webpage Title: AliExpress - Compra online de Electrónica, Moda, Casa y jardín, Deportes y ocio, Motor y seguridad, y más. - AliExpress - AliExpress\n",
      "Successful connection \n",
      "\n"
     ]
    }
   ],
   "source": [
    "#PRUEBA PARA DATOS DE ENVIO\n",
    "\n",
    "#SCRIPT PARA LLEGAR A LA PAGINA DE VIDEOJUEGOS CON TODO SELECCIONADO YA\n",
    "driver = starting_setup()\n",
    "url=driver.current_url\n",
    "html=driver.page_source\n",
    "\n",
    "\n",
    "\n"
   ]
  },
  {
   "cell_type": "code",
   "execution_count": 9,
   "metadata": {},
   "outputs": [
    {
     "name": "stdout",
     "output_type": "stream",
     "text": [
      "59\n"
     ]
    },
    {
     "data": {
      "text/plain": [
       "['Envío gratis sobre 10€ · Entrega en 9 días',\n",
       " 'Envío gratis sobre 10€ · Entrega en 9 días',\n",
       " 'Envío gratis · entrega en 9 días',\n",
       " 'Envío gratis · entrega en 9 días',\n",
       " 'Envío gratis',\n",
       " 'Envío gratis',\n",
       " 'Envío gratis',\n",
       " 'Entrega en 10 por 12€Envío gratis',\n",
       " 'Envío gratis',\n",
       " 'Envío gratis sobre 10€ · Entrega en 9 días',\n",
       " 'Envío gratis sobre 10€ · Entrega en 9 días',\n",
       " '+envío: 0,28€',\n",
       " 'Entrega en 10 por 12€Envío gratis',\n",
       " '+envío: 0,25€',\n",
       " 'Envío gratis · entrega en 9 días',\n",
       " 'Envío gratis',\n",
       " 'Envío gratis sobre 10€ · Entrega en 9 días',\n",
       " 'Entrega en 10 por 12€Envío gratis',\n",
       " 'Entrega en 10 por 12€+envío: 0,34€',\n",
       " 'Envío gratis · entrega en 9 días',\n",
       " 'Envío gratis · entrega en 9 días',\n",
       " 'Envío gratis',\n",
       " 'Envío gratis sobre 10€ · Entrega en 9 días',\n",
       " 'Entrega en 10 por 12€Envío gratis',\n",
       " 'Envío gratis sobre 10€ · Entrega en 9 días',\n",
       " 'Entrega en 10 por 12€Envío gratis',\n",
       " 'Entrega en 10 por 12€Envío gratis',\n",
       " 'Entrega en 10 por 12€Envío gratis',\n",
       " 'Envío gratis sobre 10€ · Entrega en 9 días',\n",
       " 'Envío gratis',\n",
       " 'Envío gratis',\n",
       " 'Envío gratis',\n",
       " 'Envío gratis sobre 10€ · Entrega en 9 días',\n",
       " 'Entrega en 5 díasEnvío gratis',\n",
       " 'Envío gratis sobre 10€ · Entrega en 9 días',\n",
       " '+envío: 0,28€',\n",
       " 'Entrega en 10 por 12€Envío gratis',\n",
       " 'Entrega en 10 por 12€Envío gratis',\n",
       " 'Envío gratis sobre 10€ · Entrega en 9 días',\n",
       " 'Entrega en 10 por 12€Envío gratis',\n",
       " 'Envío gratis · entrega en 9 días',\n",
       " 'Envío gratis · entrega en 9 días',\n",
       " '+envío: 0,28€',\n",
       " 'Envío gratis · entrega en 9 días',\n",
       " '+envío: 4,89€',\n",
       " 'Entrega en 10 por 12€Envío gratis',\n",
       " 'Entrega en 10 por 12€Envío gratis',\n",
       " 'Envío gratis sobre 10€ · Entrega en 9 días',\n",
       " '+envío: 5,86€',\n",
       " 'Envío gratis',\n",
       " 'Envío gratis · entrega en 9 días',\n",
       " 'Envío gratis',\n",
       " '+envío: 0,94€',\n",
       " 'Envío gratis',\n",
       " 'Entrega en 10 por 12€Envío gratis',\n",
       " 'Envío gratis · entrega en 9 días',\n",
       " 'Entrega en 10 por 12€Envío gratis',\n",
       " '+envío: 4,87€',\n",
       " 'Entrega en 10 por 12€+envío: 0,55€']"
      ]
     },
     "execution_count": 9,
     "metadata": {},
     "output_type": "execute_result"
    }
   ],
   "source": [
    "#INTENTO CAMBIANDO LA FUENTE DE LOS DATOS\n",
    "'''ANTES OBTENIA LOS DATOS DE ENVIO CON EL SIGUIENTE TAG:\n",
    " product_shipping_info=soup.select('span[class*=\"tag--textStyle--\"]')\n",
    " VAMOS A INTENTAR CAMBIARLO'''\n",
    "soup=BeautifulSoup(html)\n",
    "product_shipping_info=soup.select('div[class*=\"manhattan--topList--\"]')\n",
    "product_shipping_info_list=[product.text for product in product_shipping_info_1]\n",
    "print(len(product_shipping_info_list))\n",
    "product_shipping_info_list"
   ]
  },
  {
   "cell_type": "code",
   "execution_count": 239,
   "metadata": {},
   "outputs": [
    {
     "name": "stdout",
     "output_type": "stream",
     "text": [
      "115\n",
      "115\n",
      "115\n"
     ]
    }
   ],
   "source": [
    "'''product_shipping_time=[]\n",
    "product_free_shipping=[]\n",
    "product_discount=[]\n",
    "for text in product_shipping_info_list:\n",
    "    if 'dto'or'descuento' in text:\n",
    "        product_discount.append(text)\n",
    "    else:\n",
    "        product_discount.append('-')\n",
    "    if 'Envío' in text:\n",
    "        product_free_shipping.append(text)\n",
    "    else:\n",
    "        product_free_shipping.append('-')\n",
    "    if 'Entrega' in text:\n",
    "        product_shipping_time.append(text)\n",
    "    else:\n",
    "        product_shipping_time.append('-')\n",
    "\n",
    "print(len(product_shipping_time))\n",
    "print(len(product_free_shipping))\n",
    "print(len(product_discount))\n",
    "'''"
   ]
  },
  {
   "cell_type": "code",
   "execution_count": null,
   "metadata": {},
   "outputs": [],
   "source": [
    "if 'Envío gratis' in global_df['delivery_info']:\n",
    "    "
   ]
  }
 ],
 "metadata": {
  "kernelspec": {
   "display_name": "Python 3 (ipykernel)",
   "language": "python",
   "name": "python3"
  },
  "language_info": {
   "codemirror_mode": {
    "name": "ipython",
    "version": 3
   },
   "file_extension": ".py",
   "mimetype": "text/x-python",
   "name": "python",
   "nbconvert_exporter": "python",
   "pygments_lexer": "ipython3",
   "version": "3.11.2"
  }
 },
 "nbformat": 4,
 "nbformat_minor": 2
}
