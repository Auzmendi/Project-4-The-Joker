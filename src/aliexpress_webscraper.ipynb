{
 "cells": [
  {
   "attachments": {},
   "cell_type": "markdown",
   "metadata": {},
   "source": [
    "ALIEXPRESS WEBSCRAPER"
   ]
  },
  {
   "cell_type": "code",
   "execution_count": 117,
   "metadata": {},
   "outputs": [
    {
     "name": "stderr",
     "output_type": "stream",
     "text": [
      "[WDM] - Downloading: 100%|██████████| 6.81M/6.81M [00:00<00:00, 8.80MB/s]\n"
     ]
    }
   ],
   "source": [
    "#driver = webdriver.Chrome() \n",
    "driver = webdriver.Chrome(service=Service(ChromeDriverManager().install()))"
   ]
  },
  {
   "attachments": {},
   "cell_type": "markdown",
   "metadata": {},
   "source": [
    "-----FUNCTION DEFINITION & MODULES IMPORT-----"
   ]
  },
  {
   "cell_type": "code",
   "execution_count": 279,
   "metadata": {},
   "outputs": [],
   "source": [
    "# IMPORTING MODULES\n",
    "from selenium import webdriver\n",
    "from selenium.webdriver.common.keys import Keys\n",
    "from selenium.webdriver.chrome.service import Service\n",
    "from selenium.webdriver.common.by import By\n",
    "from webdriver_manager.chrome import ChromeDriverManager\n",
    "from bs4 import BeautifulSoup\n",
    "import re\n",
    "import time\n",
    "import pandas as pd\n",
    "import random \n",
    "import numpy as np\n"
   ]
  },
  {
   "cell_type": "code",
   "execution_count": 223,
   "metadata": {},
   "outputs": [],
   "source": [
    "#THIS FUNCTION APPLY A TIME.SLEEP WITH A RANDOM VALUE WHICH IS CHOSEN BETWEEN 2 INPUTS:\n",
    "#INPUT1=T1  -> MINIMUM TIME SLEEP\n",
    "#INPUT2=T12 -> MAXIMUM TIME SLEEP\n",
    "def time_randomizer (t1,t2):\n",
    "    ran_time=random.uniform(t1,t2)\n",
    "    time.sleep(ran_time)"
   ]
  },
  {
   "cell_type": "code",
   "execution_count": 255,
   "metadata": {},
   "outputs": [],
   "source": [
    "def selenium_init(url):\n",
    "    driver = webdriver.Chrome()  # Activate driver for Chrome in this case\n",
    "    time_randomizer(1,3)\n",
    "    # Open Url in the browser\n",
    "    driver.get(url)\n",
    "    time_randomizer(2,4)\n",
    "    return driver"
   ]
  },
  {
   "cell_type": "code",
   "execution_count": 226,
   "metadata": {},
   "outputs": [],
   "source": [
    "def enter_aliexpress():\n",
    "    url='https://es.aliexpress.com/'\n",
    "    driver=selenium_init(url)\n",
    "    title = driver.title\n",
    "    print('Webpage Title:', title)\n",
    "    if len(title)>0:\n",
    "        print('Successful connection \\n')\n",
    "    else:\n",
    "        print('Conection failed \\n')\n",
    "    return driver"
   ]
  },
  {
   "cell_type": "code",
   "execution_count": 293,
   "metadata": {},
   "outputs": [],
   "source": [
    "def starting_setup ():\n",
    "    \n",
    "    #ENTERING ALIEXPRESS\n",
    "    driver = enter_aliexpress() \n",
    "    html=driver.page_source\n",
    "    soup = BeautifulSoup(html)\n",
    "\n",
    "    #ACCEPTING COOKIES\n",
    "    time_randomizer(2,7)\n",
    "    cookies=driver.find_element(By.CLASS_NAME, \"btn-accept\")\n",
    "    cookies.click()\n",
    "    driver.maximize_window() \n",
    "\n",
    "    #GOING TO VIDEOJUEGOS\n",
    "    time_randomizer(3,7)\n",
    "    driver.get(\"https://www.aliexpress.com/category/44/consumer-electronics.html\")\n",
    "    time_randomizer(2,5)\n",
    "    videojuegos=driver.find_elements(By.XPATH, \"//*[contains(text(), 'Videojuegos')]\")[1]\n",
    "    videojuegos.click()\n",
    "\n",
    "    #SORTING BY NUMBER OF ORDERS\n",
    "    driver.get(\"https://es.aliexpress.com/category/204003301/video-games.html\")\n",
    "    time_randomizer(3,6)\n",
    "    sort_by_orders=driver.find_elements(By.XPATH, \"//*[contains(text(),'Pedidos')]\")[2]\n",
    "    sort_by_orders.click()\n",
    "\n",
    "    #SORTING BY RATING --> RATING>=4\n",
    "    driver.get(\"https://es.aliexpress.com/category/204003301/video-games.html?CatId=204003301&g=y&isCategoryBrowse=true&isrefine=y&sortType=total_tranpro_desc&trafficChannel=main\")\n",
    "    time_randomizer(2,5)\n",
    "    sort_by_rating=driver.find_elements(By.CLASS_NAME, \"comet-checkbox-icon\")[3]\n",
    "    sort_by_rating.click()\n",
    "\n",
    "    #SCROLLING TILL THE BOTTOM OF THE WEBPAGE\n",
    "    for y in range (1,13):\n",
    "        height = y*1080\n",
    "        driver.execute_script(f\"window.scrollTo(0, {height})\") \n",
    "        time_randomizer(1,4)\n",
    "\n",
    "    return driver\n"
   ]
  },
  {
   "cell_type": "code",
   "execution_count": 330,
   "metadata": {},
   "outputs": [],
   "source": [
    "#THIS FUNCTION SCRAP THE DATA FROM THE CURRENT WEBPAGE & RETURNS A DATAFRAME\n",
    "def page_scraper(html):\n",
    "    soup=BeautifulSoup(html)\n",
    "    #GETTING DATA\n",
    "    product_names=soup.select('h1[class*=\"manhattan--titleText--\"]')\n",
    "    product_real_price=soup.select('div[class*=\"manhattan--price-sale--\"]')\n",
    "    product_original_price=soup.select('div[class*=\"manhattan--price-original--\"]')\n",
    "    product_sell_qty=soup.select('span[class*=\"manhattan--trade--\"]')\n",
    "    product_rate=soup.select('span[class*=\"manhattan--evaluation--\"]')\n",
    "    product_shipping_info=soup.select('span[class*=\"tag--textStyle--\"]')\n",
    "    product_official_store=soup.select('span[class*=\"cards--store--\"]')\n",
    "    #APPENDING DATA INTO LISTS\n",
    "    product_names_list=[product.text for product in product_names]\n",
    "    product_real_price_list=[product.text for product in product_real_price]\n",
    "    product_original_price_list=[product.text for product in product_original_price]\n",
    "    product_sell_qty_list=[product.text for product in product_sell_qty]\n",
    "    product_rate_list=[product.text for product in product_rate]\n",
    "    product_shipping_info_list=[product.text for product in product_shipping_info]\n",
    "    product_official_store_list=[product.text for product in product_official_store]\n",
    "    #CREATING DATAFRAME\n",
    "    df=pd.DataFrame({'Product Name':product_names_list,\n",
    "                            'Price':product_real_price_list,\n",
    "                            'Original Price':product_original_price_list,\n",
    "                            'Sell Quantity':product_sell_qty_list,\n",
    "                            'Official Store':product_official_store_list,\n",
    "                            'Rating':product_rate_list})\n",
    "    return df"
   ]
  },
  {
   "attachments": {},
   "cell_type": "markdown",
   "metadata": {},
   "source": [
    "-----MAIN-----"
   ]
  },
  {
   "cell_type": "code",
   "execution_count": 349,
   "metadata": {},
   "outputs": [
    {
     "name": "stdout",
     "output_type": "stream",
     "text": [
      "Webpage Title: AliExpress - Compra online de Electrónica, Moda, Casa y jardín, Deportes y ocio, Motor y seguridad, y más. - AliExpress - AliExpress\n",
      "Successful connection \n",
      "\n",
      "ESTAMOS EN LA PRIMERA PAGINA\n",
      "https://es.aliexpress.com/category/204003301/video-games.html?CatId=204003301&g=y&isCategoryBrowse=true&isrefine=y&sortType=total_tranpro_desc&trafficChannel=main&isFavorite=y&page=2\n",
      "ESTAMOS EN LA PAGINA2\n",
      "ESTAMOS EN LA PRIMERA PAGINA\n",
      "ESTAMOS EN LA PAGINA 3\n",
      "ESTAMOS EN LA PRIMERA PAGINA\n",
      "ESTAMOS EN LA PAGINA 4\n",
      "ESTAMOS EN LA PRIMERA PAGINA\n",
      "ESTAMOS EN LA PAGINA 5\n",
      "ESTAMOS EN LA PRIMERA PAGINA\n",
      "ESTAMOS EN LA PAGINA 6\n",
      "ESTAMOS EN LA PRIMERA PAGINA\n",
      "ESTAMOS EN LA PAGINA 7\n",
      "ESTAMOS EN LA PRIMERA PAGINA\n",
      "ESTAMOS EN LA PAGINA 8\n",
      "ESTAMOS EN LA PRIMERA PAGINA\n",
      "ESTAMOS EN LA PAGINA 9\n",
      "ESTAMOS EN LA PRIMERA PAGINA\n",
      "ESTAMOS EN LA PAGINA 10\n",
      "ESTAMOS EN LA PRIMERA PAGINA\n",
      "ESTAMOS EN LA PAGINA 11\n",
      "ESTAMOS EN LA PRIMERA PAGINA\n",
      "ESTAMOS EN LA PAGINA 12\n",
      "ESTAMOS EN LA PRIMERA PAGINA\n",
      "ESTAMOS EN LA PAGINA 13\n",
      "ESTAMOS EN LA PRIMERA PAGINA\n",
      "ESTAMOS EN LA PAGINA 14\n",
      "ESTAMOS EN LA PRIMERA PAGINA\n",
      "ESTAMOS EN LA PAGINA 15\n",
      "ESTAMOS EN LA PRIMERA PAGINA\n",
      "ESTAMOS EN LA PAGINA 16\n",
      "ESTAMOS EN LA PRIMERA PAGINA\n",
      "ESTAMOS EN LA PAGINA 17\n",
      "ESTAMOS EN LA PRIMERA PAGINA\n",
      "ESTAMOS EN LA PAGINA 18\n",
      "ESTAMOS EN LA PRIMERA PAGINA\n",
      "ESTAMOS EN LA PAGINA 19\n",
      "ESTAMOS EN LA PRIMERA PAGINA\n",
      "ESTAMOS EN LA PAGINA 20\n",
      "ESTAMOS EN LA PRIMERA PAGINA\n",
      "ESTAMOS EN LA PAGINA 21\n",
      "ESTAMOS EN LA PRIMERA PAGINA\n",
      "ESTAMOS EN LA PAGINA 22\n",
      "ESTAMOS EN LA PRIMERA PAGINA\n",
      "ESTAMOS EN LA PAGINA 23\n",
      "ESTAMOS EN LA PRIMERA PAGINA\n",
      "ESTAMOS EN LA PAGINA 24\n",
      "ESTAMOS EN LA PRIMERA PAGINA\n",
      "ESTAMOS EN LA PAGINA 25\n",
      "ESTAMOS EN LA PRIMERA PAGINA\n",
      "ESTAMOS EN LA PAGINA 26\n",
      "ESTAMOS EN LA PRIMERA PAGINA\n",
      "ESTAMOS EN LA PAGINA 27\n",
      "ESTAMOS EN LA PRIMERA PAGINA\n",
      "ESTAMOS EN LA PAGINA 28\n",
      "ESTAMOS EN LA PRIMERA PAGINA\n",
      "ESTAMOS EN LA PAGINA 29\n",
      "ESTAMOS EN LA PRIMERA PAGINA\n",
      "ESTAMOS EN LA PAGINA 30\n",
      "ESTAMOS EN LA PRIMERA PAGINA\n",
      "ESTAMOS EN LA PAGINA 31\n",
      "ESTAMOS EN LA PRIMERA PAGINA\n",
      "ESTAMOS EN LA PAGINA 32\n",
      "ESTAMOS EN LA PRIMERA PAGINA\n",
      "ESTAMOS EN LA PAGINA 33\n",
      "ESTAMOS EN LA PRIMERA PAGINA\n",
      "ESTAMOS EN LA PAGINA 34\n",
      "ESTAMOS EN LA PRIMERA PAGINA\n",
      "ESTAMOS EN LA PAGINA 35\n",
      "ESTAMOS EN LA PRIMERA PAGINA\n",
      "ESTAMOS EN LA PAGINA 36\n",
      "ESTAMOS EN LA PRIMERA PAGINA\n",
      "ESTAMOS EN LA PAGINA 37\n",
      "ESTAMOS EN LA PRIMERA PAGINA\n",
      "ESTAMOS EN LA PAGINA 38\n",
      "ESTAMOS EN LA PRIMERA PAGINA\n",
      "ESTAMOS EN LA PAGINA 39\n",
      "ESTAMOS EN LA PRIMERA PAGINA\n",
      "ESTAMOS EN LA PAGINA 40\n",
      "ESTAMOS EN LA PRIMERA PAGINA\n",
      "ESTAMOS EN LA PAGINA 41\n",
      "ESTAMOS EN LA PRIMERA PAGINA\n",
      "ESTAMOS EN LA PAGINA 42\n",
      "ESTAMOS EN LA PRIMERA PAGINA\n",
      "ESTAMOS EN LA PAGINA 43\n",
      "ESTAMOS EN LA PRIMERA PAGINA\n",
      "ESTAMOS EN LA PAGINA 44\n",
      "ESTAMOS EN LA PRIMERA PAGINA\n",
      "ESTAMOS EN LA PAGINA 45\n",
      "ESTAMOS EN LA PRIMERA PAGINA\n",
      "ESTAMOS EN LA PAGINA 46\n",
      "ESTAMOS EN LA PRIMERA PAGINA\n",
      "ESTAMOS EN LA PAGINA 47\n",
      "ESTAMOS EN LA PRIMERA PAGINA\n",
      "ESTAMOS EN LA PAGINA 48\n",
      "ESTAMOS EN LA PRIMERA PAGINA\n",
      "ESTAMOS EN LA PAGINA 49\n"
     ]
    }
   ],
   "source": [
    "#MAIN\n",
    "driver = starting_setup()\n",
    "url=driver.current_url\n",
    "html=driver.page_source\n",
    "global_df=pd.DataFrame()\n",
    "print('WE ARE IN THE FIRST PAGE')\n",
    "for i in range (2,50):\n",
    "    driver.get(url)\n",
    "    time_randomizer(6,13)\n",
    "    \n",
    "    for y in range (1,13):\n",
    "        height = y*1080\n",
    "        driver.execute_script(f\"window.scrollTo(0, {height})\") \n",
    "        time_randomizer(1,4)\n",
    "    html=driver.page_source\n",
    "    df=page_scraper(html)\n",
    "    global_df=pd.concat([global_df,df],ignore_index=True)\n",
    "    if \"page=\" in url:\n",
    "        url=url.replace('page=/d+',f'page={i}')\n",
    "        print(f'WE ARE IN THE PAGE NUMBER {i}')\n",
    "    else:\n",
    "        url= f'{url}&page=2'\n",
    "        print(url)\n",
    "        print(f'WE ARE IN THE PAGE NUMBER {i}')\n",
    "global_df.to_csv()\n",
    "driver.quit()"
   ]
  },
  {
   "cell_type": "code",
   "execution_count": 1,
   "metadata": {},
   "outputs": [
    {
     "ename": "NameError",
     "evalue": "name 'global_df' is not defined",
     "output_type": "error",
     "traceback": [
      "\u001b[1;31m---------------------------------------------------------------------------\u001b[0m",
      "\u001b[1;31mNameError\u001b[0m                                 Traceback (most recent call last)",
      "Cell \u001b[1;32mIn[1], line 1\u001b[0m\n\u001b[1;32m----> 1\u001b[0m global_df\u001b[39m.\u001b[39mto_csv(\u001b[39m'\u001b[39m\u001b[39m'\u001b[39m)\n",
      "\u001b[1;31mNameError\u001b[0m: name 'global_df' is not defined"
     ]
    }
   ],
   "source": [
    "global_df.to_csv('')"
   ]
  },
  {
   "cell_type": "code",
   "execution_count": 239,
   "metadata": {},
   "outputs": [
    {
     "name": "stdout",
     "output_type": "stream",
     "text": [
      "115\n",
      "115\n",
      "115\n"
     ]
    }
   ],
   "source": [
    "'''product_shipping_time=[]\n",
    "product_free_shipping=[]\n",
    "product_discount=[]\n",
    "for text in product_shipping_info_list:\n",
    "    if 'dto'or'descuento' in text:\n",
    "        product_discount.append(text)\n",
    "    else:\n",
    "        product_discount.append('-')\n",
    "    if 'Envío' in text:\n",
    "        product_free_shipping.append(text)\n",
    "    else:\n",
    "        product_free_shipping.append('-')\n",
    "    if 'Entrega' in text:\n",
    "        product_shipping_time.append(text)\n",
    "    else:\n",
    "        product_shipping_time.append('-')\n",
    "\n",
    "print(len(product_shipping_time))\n",
    "print(len(product_free_shipping))\n",
    "print(len(product_discount))\n",
    "'''"
   ]
  }
 ],
 "metadata": {
  "kernelspec": {
   "display_name": "Python 3 (ipykernel)",
   "language": "python",
   "name": "python3"
  },
  "language_info": {
   "codemirror_mode": {
    "name": "ipython",
    "version": 3
   },
   "file_extension": ".py",
   "mimetype": "text/x-python",
   "name": "python",
   "nbconvert_exporter": "python",
   "pygments_lexer": "ipython3",
   "version": "3.11.2"
  }
 },
 "nbformat": 4,
 "nbformat_minor": 2
}
